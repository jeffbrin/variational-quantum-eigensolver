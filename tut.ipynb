{
 "cells": [
  {
   "cell_type": "markdown",
   "id": "ac74953d",
   "metadata": {},
   "source": [
    "## Step 1 - Obtain Initial Hartree-Fock Solution"
   ]
  },
  {
   "cell_type": "code",
   "execution_count": null,
   "id": "fef3a34d",
   "metadata": {},
   "outputs": [],
   "source": [
    "from qiskit_nature.units import DistanceUnit\n",
    "from qiskit_nature.second_q.drivers import PySCFDriver\n",
    "\n",
    "# Define the PySCF driver to simulate an H_2 molecule \n",
    "# with the hydrogen atoms distanced 0.735 ANGSTROM units apart\n",
    "driver = PySCFDriver(\n",
    "    atom=\"H 0 0 0; H 0 0 0.735\",\n",
    "    basis=\"sto3g\",\n",
    "    charge=0,\n",
    "    spin=0,\n",
    "    unit=DistanceUnit.ANGSTROM,\n",
    ")"
   ]
  },
  {
   "cell_type": "code",
   "execution_count": null,
   "id": "83df04a8",
   "metadata": {},
   "outputs": [
    {
     "name": "stdout",
     "output_type": "stream",
     "text": [
      "<qiskit_nature.second_q.problems.electronic_structure_problem.ElectronicStructureProblem object at 0x113f02710>\n"
     ]
    }
   ],
   "source": [
    "# Run the SCF driver to compute the electronic-hamiltonian for the system above.\n",
    "# The hamiltonian is used in the eigenvalue minimization to find the ground state of the system.\n",
    "problem = driver.run()\n",
    "print(problem)"
   ]
  },
  {
   "cell_type": "markdown",
   "id": "4ad23adf",
   "metadata": {},
   "source": [
    "Show the terms in the 1 and 2-body integrals\n",
    "\n",
    "$h_{pq} = \\int \\phi^*_p(r) \\left( -\\frac{1}{2} \\nabla^2 - \\sum_{I} \\frac{Z_I}{R_I- r} \\right)   \\phi_q(r)dr$\n",
    "<br>\n",
    "$h_{pqrs} = \\int \\frac{\\phi^*_p(r_1)  \\phi^*_q(r_2) \\phi_r(r_2)  \\phi_s(r_1)}{|r_1-r_2|}dr_1dr_2$\n"
   ]
  },
  {
   "cell_type": "markdown",
   "id": "443b4129",
   "metadata": {},
   "source": [
    "Here, we show the values of the integrals for electrons with a-spin. You can think of a-spin and b-spin as being \"spin up\" and \"spin down\".\n",
    "\n",
    "The Hartree-Fock solution for the system's hamiltonian is defined as the following: <br>\n",
    "$\\hat{H}_{elec}=\\sum_{pq} h_{pq} \\hat{a}^{\\dagger}_p \\hat{a}_q + \\frac{1}{2} \\sum_{pqrs} h_{pqrs}  \\hat{a}^{\\dagger}_p \\hat{a}^{\\dagger}_q \\hat{a}_r  \\hat{a}_s$\n",
    "\n",
    "The 1-body integrals describe the electron's energy without considering interactions with other electrons. This would include things like its kinetic energy.<br>\n",
    "$h_{pq} = \\int \\phi^*_p(r) \\left( -\\frac{1}{2} \\nabla^2 - \\sum_{I} \\frac{Z_I}{R_I- r} \\right)   \\phi_q(r)dr$\n",
    "\n",
    "The 2-body integrals describe energy resulting from interactions between bodies, like electron-electron interactions causing repulsion.<br>\n",
    "$h_{pqrs} = \\int \\frac{\\phi^*_p(r_1)  \\phi^*_q(r_2) \\phi_r(r_2)  \\phi_s(r_1)}{|r_1-r_2|}dr_1dr_2$"
   ]
  },
  {
   "cell_type": "code",
   "execution_count": 14,
   "id": "7b484092",
   "metadata": {},
   "outputs": [
    {
     "name": "stdout",
     "output_type": "stream",
     "text": [
      "Polynomial Tensor\n",
      " \"+-\":\n",
      "array([[-8.39667704e-01,  8.26334066e-17],\n",
      "       [ 7.51088373e-17, -6.72280171e-01]])\n",
      " \"++--\":\n",
      "array([ 5.29139733e-01, -5.30876774e-17,  2.44180554e-01,  5.38388757e-01,\n",
      "        6.50905963e-17,  5.58067043e-01])\n"
     ]
    }
   ],
   "source": [
    "hamiltonian = problem.hamiltonian\n",
    "\n",
    "coefficients = hamiltonian.electronic_integrals\n",
    "# Since H_2 is closed-shell, the alpha and beta coefficients should be the same. Here we inspect the alpha terms.\n",
    "# The alpha-beta interactions in the 2-body integrals are accounted for in the hamiltonian, but we don't inspect them here since they're derived\n",
    "# from the alpha and beta terms which are equal to eachother.\n",
    "print(coefficients.alpha) "
   ]
  },
  {
   "cell_type": "markdown",
   "id": "fb7398d9",
   "metadata": {},
   "source": [
    "The following sections shows the second-quantized operator."
   ]
  },
  {
   "cell_type": "code",
   "execution_count": 18,
   "id": "4616f73d",
   "metadata": {},
   "outputs": [
    {
     "name": "stdout",
     "output_type": "stream",
     "text": [
      "Fermionic Operator\n",
      "number spin orbitals=4, number terms=36\n",
      "  -0.8396677036664356 * ( +_0 -_0 )\n",
      "+ -0.672280170773492 * ( +_1 -_1 )\n",
      "+ -0.8396677036664356 * ( +_2 -_2 )\n",
      "+ -0.672280170773492 * ( +_3 -_3 )\n",
      "+ 0.2645698662904512 * ( +_0 +_0 -_0 -_0 )\n",
      "+ 0.2691943787365952 * ( +_0 +_1 -_1 -_0 )\n",
      "+ 0.2645698662904512 * ( +_0 +_2 -_2 -_0 )\n",
      "+ 0.2691943787365952 * ( +_0 +_3 -_3 -_0 )\n",
      "+ 0.12209027710142221 * ( +_0 +_0 -_1 -_1 )\n",
      "+ 0.12209027710142221 * ( +_0 +_1 -_0 -_1 )\n",
      "+ 0.12209027710142221 * ( +_0 +_2 -_3 -_1 )\n",
      "+ 0.12209027710142221 * ( +_0 +_3 -_2 -_1 )\n",
      "+ 0.12209027710142221 * ( +_1 +_0 -_1 -_0 )\n",
      "+ 0.12209027710142221 * ( +_1 +_1 -_0 -_0 )\n",
      "+ 0.12209027710142221 * ( +_1 +_2 -_3 -_0 )\n",
      "+ 0.12209027710142221 * ( +_1 +_3 -_2 -_0 )\n",
      "+ 0.2691943787365952 * ( +_1 +_0 -_0 -_1 )\n",
      "+ 0.27903352127802156 * ( +_1 +_1 -_1 -_1 )\n",
      "+ 0.2691943787365952 * ( +_1 +_2 -_2 -_1 )\n",
      "+ 0.27903352127802156 * ( +_1 +_3 -_3 -_1 )\n",
      "+ 0.2645698662904512 * ( +_2 +_0 -_0 -_2 )\n",
      "+ 0.2691943787365952 * ( +_2 +_1 -_1 -_2 )\n",
      "+ 0.2645698662904512 * ( +_2 +_2 -_2 -_2 )\n",
      "+ 0.2691943787365952 * ( +_2 +_3 -_3 -_2 )\n",
      "+ 0.12209027710142221 * ( +_2 +_0 -_1 -_3 )\n",
      "+ 0.12209027710142221 * ( +_2 +_1 -_0 -_3 )\n",
      "+ 0.12209027710142221 * ( +_2 +_2 -_3 -_3 )\n",
      "+ 0.12209027710142221 * ( +_2 +_3 -_2 -_3 )\n",
      "+ 0.12209027710142221 * ( +_3 +_0 -_1 -_2 )\n",
      "+ 0.12209027710142221 * ( +_3 +_1 -_0 -_2 )\n",
      "+ 0.12209027710142221 * ( +_3 +_2 -_3 -_2 )\n",
      "+ 0.12209027710142221 * ( +_3 +_3 -_2 -_2 )\n",
      "+ 0.2691943787365952 * ( +_3 +_0 -_0 -_3 )\n",
      "+ 0.27903352127802156 * ( +_3 +_1 -_1 -_3 )\n",
      "+ 0.2691943787365952 * ( +_3 +_2 -_2 -_3 )\n",
      "+ 0.27903352127802156 * ( +_3 +_3 -_3 -_3 )\n"
     ]
    }
   ],
   "source": [
    "second_q_op = hamiltonian.second_q_op()\n",
    "print(second_q_op)"
   ]
  },
  {
   "cell_type": "markdown",
   "id": "972a093c",
   "metadata": {},
   "source": [
    "## Step 2 - Compute the ground state energy level of $H_2$\n",
    "Now that we have Hartree-Fock Hamiltonian of the $H_2$ molecule, we can use qiskit's ground state eigensolver to compute / approximate the ground state energy level."
   ]
  },
  {
   "cell_type": "code",
   "execution_count": null,
   "id": "3a347679",
   "metadata": {},
   "outputs": [],
   "source": [
    "from qiskit_algorithms import NumPyMinimumEigensolver\n",
    "from qiskit_nature.second_q.algorithms import GroundStateEigensolver\n",
    "from qiskit_nature.second_q.mappers import JordanWignerMapper\n",
    "\n",
    "solver = GroundStateEigensolver(\n",
    "    JordanWignerMapper(),\n",
    "    NumPyMinimumEigensolver(),\n",
    ")"
   ]
  },
  {
   "cell_type": "code",
   "execution_count": null,
   "id": "74f8c59f",
   "metadata": {},
   "outputs": [
    {
     "name": "stdout",
     "output_type": "stream",
     "text": [
      "=== GROUND STATE ENERGY ===\n",
      " \n",
      "* Electronic ground state energy (Hartree): -1.272801376405\n",
      "  - computed part:      -1.272801376405\n",
      "~ Nuclear repulsion energy (Hartree): 0.305001274305\n",
      "> Total ground state energy (Hartree): -0.967800102099\n",
      " \n",
      "=== MEASURED OBSERVABLES ===\n",
      " \n",
      "  0:  # Particles: 2.000 S: 0.000 S^2: 0.000 M: 0.000\n",
      " \n",
      "=== DIPOLE MOMENTS ===\n",
      " \n",
      "~ Nuclear dipole moment (a.u.): [0.0  0.0  3.27867483]\n",
      " \n",
      "  0: \n",
      "  * Electronic dipole moment (a.u.): [0.0  0.0  3.27867482612]\n",
      "    - computed part:      [0.0  0.0  3.27867482612]\n",
      "  > Dipole moment (a.u.): [0.0  0.0  0.00000000388]  Total: 0.00000000388\n",
      "                 (debye): [0.0  0.0  0.000000009861]  Total: 0.000000009861\n",
      " \n"
     ]
    }
   ],
   "source": [
    "# Solve for the minimum eigenvalue of the hamiltonian\n",
    "result = solver.solve(problem)\n",
    "print(result)"
   ]
  }
 ],
 "metadata": {
  "kernelspec": {
   "display_name": "variational-quantum-eigensolver",
   "language": "python",
   "name": "python3"
  },
  "language_info": {
   "codemirror_mode": {
    "name": "ipython",
    "version": 3
   },
   "file_extension": ".py",
   "mimetype": "text/x-python",
   "name": "python",
   "nbconvert_exporter": "python",
   "pygments_lexer": "ipython3",
   "version": "3.13.4"
  }
 },
 "nbformat": 4,
 "nbformat_minor": 5
}
