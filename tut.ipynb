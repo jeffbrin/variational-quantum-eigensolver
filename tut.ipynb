{
 "cells": [
  {
   "cell_type": "markdown",
   "id": "ac74953d",
   "metadata": {},
   "source": [
    "## Step 1 - Obtain Initial Hartree-Fock Solution"
   ]
  },
  {
   "cell_type": "code",
   "execution_count": 1,
   "id": "fef3a34d",
   "metadata": {},
   "outputs": [],
   "source": [
    "from qiskit_nature.units import DistanceUnit\n",
    "from qiskit_nature.second_q.drivers import PySCFDriver\n",
    "\n",
    "# Define the PySCF driver to simulate an H_2 molecule \n",
    "# with the hydrogen atoms distanced 0.735 ANGSTROM units apart\n",
    "driver = PySCFDriver(\n",
    "    atom=\"H 0 0 0; H 0 0 0.735\",\n",
    "    basis=\"sto3g\",\n",
    "    charge=0,\n",
    "    spin=0,\n",
    "    unit=DistanceUnit.ANGSTROM,\n",
    ")"
   ]
  },
  {
   "cell_type": "code",
   "execution_count": 2,
   "id": "83df04a8",
   "metadata": {},
   "outputs": [
    {
     "name": "stdout",
     "output_type": "stream",
     "text": [
      "<qiskit_nature.second_q.problems.electronic_structure_problem.ElectronicStructureProblem object at 0x11f2978c0>\n"
     ]
    }
   ],
   "source": [
    "# Run the SCF driver to compute the electronic-hamiltonian for the system above.\n",
    "# The hamiltonian is used in the eigenvalue minimization to find the ground state of the system.\n",
    "problem = driver.run()\n",
    "print(problem)"
   ]
  },
  {
   "cell_type": "markdown",
   "id": "4ad23adf",
   "metadata": {},
   "source": [
    "Show the terms in the 1 and 2-body integrals\n",
    "\n",
    "$h_{pq} = \\int \\phi^*_p(r) \\left( -\\frac{1}{2} \\nabla^2 - \\sum_{I} \\frac{Z_I}{R_I- r} \\right)   \\phi_q(r)dr$\n",
    "<br>\n",
    "$h_{pqrs} = \\int \\frac{\\phi^*_p(r_1)  \\phi^*_q(r_2) \\phi_r(r_2)  \\phi_s(r_1)}{|r_1-r_2|}dr_1dr_2$\n"
   ]
  },
  {
   "cell_type": "markdown",
   "id": "443b4129",
   "metadata": {},
   "source": [
    "Here, we show the values of the integrals for electrons with a-spin. You can think of a-spin and b-spin as being \"spin up\" and \"spin down\".\n",
    "\n",
    "The Hartree-Fock solution for the system's hamiltonian is defined as the following: <br>\n",
    "$\\hat{H}_{elec}=\\sum_{pq} h_{pq} \\hat{a}^{\\dagger}_p \\hat{a}_q + \\frac{1}{2} \\sum_{pqrs} h_{pqrs}  \\hat{a}^{\\dagger}_p \\hat{a}^{\\dagger}_q \\hat{a}_r  \\hat{a}_s$\n",
    "\n",
    "The 1-body integrals describe the electron's energy without considering interactions with other electrons. This would include things like its kinetic energy.<br>\n",
    "$h_{pq} = \\int \\phi^*_p(r) \\left( -\\frac{1}{2} \\nabla^2 - \\sum_{I} \\frac{Z_I}{R_I- r} \\right)   \\phi_q(r)dr$\n",
    "\n",
    "The 2-body integrals describe energy resulting from interactions between bodies, like electron-electron interactions causing repulsion.<br>\n",
    "$h_{pqrs} = \\int \\frac{\\phi^*_p(r_1)  \\phi^*_q(r_2) \\phi_r(r_2)  \\phi_s(r_1)}{|r_1-r_2|}dr_1dr_2$"
   ]
  },
  {
   "cell_type": "code",
   "execution_count": 3,
   "id": "7b484092",
   "metadata": {},
   "outputs": [
    {
     "name": "stdout",
     "output_type": "stream",
     "text": [
      "Polynomial Tensor\n",
      " \"+-\":\n",
      "array([[-1.25633907e+00,  3.47700168e-17],\n",
      "       [ 4.93572504e-17, -4.71896007e-01]])\n",
      " \"++--\":\n",
      "array([ 6.75710155e-01, -1.00856435e-16,  1.80931200e-01,  6.64581730e-01,\n",
      "       -3.25210285e-19,  6.98573723e-01])\n"
     ]
    }
   ],
   "source": [
    "hamiltonian = problem.hamiltonian\n",
    "\n",
    "coefficients = hamiltonian.electronic_integrals\n",
    "# Since H_2 is closed-shell, the alpha and beta coefficients should be the same. Here we inspect the alpha terms.\n",
    "# The alpha-beta interactions in the 2-body integrals are accounted for in the hamiltonian, but we don't inspect them here since they're derived\n",
    "# from the alpha and beta terms which are equal to eachother.\n",
    "print(coefficients.alpha) "
   ]
  },
  {
   "cell_type": "markdown",
   "id": "fb7398d9",
   "metadata": {},
   "source": [
    "The following sections shows the second-quantized operators.\n",
    "\n",
    "The second quantized operators are operators which describe the existence and movement of electrons in between spin orbitals.\n",
    "When calculating the energy of the current state of a system, the hamiltonian - in second quantized form - represents energy coming from three distinct sources.\n",
    "\n",
    "First, the effect of single electrons (with no interactions between them) are considered with the 2-term operators. Ex: $e$ * (+_0 -_0) contributes $e$ energy if there is an electron in spin orbital 0. The notation +_0 denotes a creation operator - where the hamiltonian creates an electron in the given orbital (0), while -_0 is an annihilation operator, removing an electron from the given orbital (0). Together, (+_0 -_0) removes, then creates an electron in the given orbital, resulting in no change. When calculating expectation value though, the term ends up contributing energy only if there is an electron in the given orbital since an annihilation operator on a state with no electron in the given orbital removes the term from the summation.\n",
    "\n",
    "Terms with 4 operators (terms containing the two-body integrals) act similarly, but instead contribute energy originating from electron-electron interactions. The operators behave the same as when mentioned above, but now each term has 4 operators; 2 annihilation and 2 creation. Thus, the second source of energy represented in the hamiltonian is these electron-electron interactions represented as terms with 4 operators. Some terms (diagonal terms) are essentially the same as the single body terms. For example ( +_0 +_1 -_1 -_0 ) represents removing and then replacing electrons in the 0 and 1 spin orbitals. This clearly has no effect in terms of moving electrons between orbitals, and effectively just adds the energy associated with these terms if there are electrons found in the 0 and 1 orbitals. This is energy originating from the repulsion of the two electrons in the 0 and 1 orbitals.\n",
    "\n",
    "Finally, some terms with 4 operators - like ( +_0 +_2 -_3 -_1 ) represent evolutions where electrons move between orbitals. When calculating the expectation value, these terms only persist and add their corresponding energy values if some electrons are in a superposition of multiple orbitals. This is because during the calculation of the expectation value, we take the inner product of the new state with the original state. If the new state has these electrons scattered into different orbitals, the state will be orthogonal with the original, negating any energy that may have resulted from this new scattered state. So, these scattering operators capture the energy originating from delocalization.\n",
    "\n",
    "### Simplified Example: \n",
    "Let $\\ket{0, 1}$ represent a state where orbital 0 is unoccupied, and electron 1 is occupied, with $\\ket{1, 0}$ representing the opposite.\n",
    "\n",
    "if $\\ket{\\psi} = \\ket{0, 1}$ and we look at the operator $\\hat{O} = +_0-_1$, then we get the following:\n",
    "\n",
    "$\\hat{O}\\ket{\\psi} = \\ket{1, 0}$, so the expectation value of this state for this observable is $\\bra{0, 1}\\hat{O}\\ket{0, 1} = \\bra{0, 1}\\ket{1, 0} = 0$\n",
    "\n",
    "However, with a state in a superposition $\\ket{\\psi\\prime} = \\frac{1}{\\sqrt{2}}(\\ket{0, 1} + \\ket{1, 0})$, we get the following:\n",
    "\n",
    "$\\bra{\\psi\\prime}\\hat{O}\\ket{\\psi\\prime} = \\frac{1}{2}(\\bra{0, 1} + \\bra{1, 0})(\\hat{O}\\ket{0, 1} + \\hat{O}\\ket{1, 0}) = \\frac{1}{2}(\\bra{0, 1} + \\bra{1, 0})(\\hat{O}\\ket{0, 1} + 0) = \\frac{1}{2}(\\bra{0, 1} + \\bra{1, 0})(\\ket{1, 0}) = \\frac{1}{2}$"
   ]
  },
  {
   "cell_type": "code",
   "execution_count": 4,
   "id": "4616f73d",
   "metadata": {},
   "outputs": [
    {
     "name": "stdout",
     "output_type": "stream",
     "text": [
      "Fermionic Operator\n",
      "number spin orbitals=4, number terms=36\n",
      "  -1.25633907300325 * ( +_0 -_0 )\n",
      "+ -0.471896007281142 * ( +_1 -_1 )\n",
      "+ -1.25633907300325 * ( +_2 -_2 )\n",
      "+ -0.471896007281142 * ( +_3 -_3 )\n",
      "+ 0.3378550774017582 * ( +_0 +_0 -_0 -_0 )\n",
      "+ 0.3322908651276483 * ( +_0 +_1 -_1 -_0 )\n",
      "+ 0.3378550774017582 * ( +_0 +_2 -_2 -_0 )\n",
      "+ 0.3322908651276483 * ( +_0 +_3 -_3 -_0 )\n",
      "+ 0.09046559989211571 * ( +_0 +_0 -_1 -_1 )\n",
      "+ 0.09046559989211571 * ( +_0 +_1 -_0 -_1 )\n",
      "+ 0.09046559989211571 * ( +_0 +_2 -_3 -_1 )\n",
      "+ 0.09046559989211571 * ( +_0 +_3 -_2 -_1 )\n",
      "+ 0.09046559989211571 * ( +_1 +_0 -_1 -_0 )\n",
      "+ 0.09046559989211571 * ( +_1 +_1 -_0 -_0 )\n",
      "+ 0.09046559989211571 * ( +_1 +_2 -_3 -_0 )\n",
      "+ 0.09046559989211571 * ( +_1 +_3 -_2 -_0 )\n",
      "+ 0.3322908651276483 * ( +_1 +_0 -_0 -_1 )\n",
      "+ 0.3492868613660083 * ( +_1 +_1 -_1 -_1 )\n",
      "+ 0.3322908651276483 * ( +_1 +_2 -_2 -_1 )\n",
      "+ 0.3492868613660083 * ( +_1 +_3 -_3 -_1 )\n",
      "+ 0.3378550774017582 * ( +_2 +_0 -_0 -_2 )\n",
      "+ 0.3322908651276483 * ( +_2 +_1 -_1 -_2 )\n",
      "+ 0.3378550774017582 * ( +_2 +_2 -_2 -_2 )\n",
      "+ 0.3322908651276483 * ( +_2 +_3 -_3 -_2 )\n",
      "+ 0.09046559989211571 * ( +_2 +_0 -_1 -_3 )\n",
      "+ 0.09046559989211571 * ( +_2 +_1 -_0 -_3 )\n",
      "+ 0.09046559989211571 * ( +_2 +_2 -_3 -_3 )\n",
      "+ 0.09046559989211571 * ( +_2 +_3 -_2 -_3 )\n",
      "+ 0.09046559989211571 * ( +_3 +_0 -_1 -_2 )\n",
      "+ 0.09046559989211571 * ( +_3 +_1 -_0 -_2 )\n",
      "+ 0.09046559989211571 * ( +_3 +_2 -_3 -_2 )\n",
      "+ 0.09046559989211571 * ( +_3 +_3 -_2 -_2 )\n",
      "+ 0.3322908651276483 * ( +_3 +_0 -_0 -_3 )\n",
      "+ 0.3492868613660083 * ( +_3 +_1 -_1 -_3 )\n",
      "+ 0.3322908651276483 * ( +_3 +_2 -_2 -_3 )\n",
      "+ 0.3492868613660083 * ( +_3 +_3 -_3 -_3 )\n"
     ]
    }
   ],
   "source": [
    "second_q_op = hamiltonian.second_q_op()\n",
    "print(second_q_op)"
   ]
  },
  {
   "cell_type": "markdown",
   "id": "972a093c",
   "metadata": {},
   "source": [
    "## Step 2 - Compute the ground state energy level of $H_2$\n",
    "Now that we have Hartree-Fock Hamiltonian of the $H_2$ molecule, we can use qiskit's ground state eigensolver to compute / approximate the ground state energy level."
   ]
  },
  {
   "cell_type": "code",
   "execution_count": 5,
   "id": "3a347679",
   "metadata": {},
   "outputs": [],
   "source": [
    "from qiskit_algorithms import NumPyMinimumEigensolver\n",
    "from qiskit_nature.second_q.algorithms import GroundStateEigensolver\n",
    "from qiskit_nature.second_q.mappers import JordanWignerMapper\n",
    "\n",
    "solver = GroundStateEigensolver(\n",
    "    JordanWignerMapper(),\n",
    "    NumPyMinimumEigensolver(),\n",
    ")"
   ]
  },
  {
   "cell_type": "code",
   "execution_count": 6,
   "id": "74f8c59f",
   "metadata": {},
   "outputs": [
    {
     "name": "stdout",
     "output_type": "stream",
     "text": [
      "[-1.85727503]\n"
     ]
    }
   ],
   "source": [
    "# Solve for the minimum eigenvalue of the hamiltonian\n",
    "result = solver.solve(problem)\n",
    "print(result.eigenvalues)"
   ]
  }
 ],
 "metadata": {
  "kernelspec": {
   "display_name": "variational-quantum-eigensolver",
   "language": "python",
   "name": "python3"
  },
  "language_info": {
   "codemirror_mode": {
    "name": "ipython",
    "version": 3
   },
   "file_extension": ".py",
   "mimetype": "text/x-python",
   "name": "python",
   "nbconvert_exporter": "python",
   "pygments_lexer": "ipython3",
   "version": "3.13.4"
  }
 },
 "nbformat": 4,
 "nbformat_minor": 5
}
